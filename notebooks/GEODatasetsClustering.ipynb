{
  "nbformat": 4,
  "nbformat_minor": 0,
  "metadata": {
    "colab": {
      "provenance": [],
      "toc_visible": true
    },
    "kernelspec": {
      "name": "python3",
      "display_name": "Python 3"
    },
    "language_info": {
      "name": "python"
    }
  },
  "cells": [
    {
      "cell_type": "markdown",
      "source": [
        "# Information scrapping"
      ],
      "metadata": {
        "id": "qQ0fLo4HMky0"
      }
    },
    {
      "cell_type": "code",
      "source": [
        "!pip install umap-learn"
      ],
      "metadata": {
        "collapsed": true,
        "colab": {
          "base_uri": "https://localhost:8080/"
        },
        "id": "Vut9OYEKaqLO",
        "outputId": "fcd8545e-f6a8-42be-d65d-236f56a2a62d"
      },
      "execution_count": 382,
      "outputs": [
        {
          "output_type": "stream",
          "name": "stdout",
          "text": [
            "Requirement already satisfied: umap-learn in /usr/local/lib/python3.11/dist-packages (0.5.7)\n",
            "Requirement already satisfied: numpy>=1.17 in /usr/local/lib/python3.11/dist-packages (from umap-learn) (2.0.2)\n",
            "Requirement already satisfied: scipy>=1.3.1 in /usr/local/lib/python3.11/dist-packages (from umap-learn) (1.14.1)\n",
            "Requirement already satisfied: scikit-learn>=0.22 in /usr/local/lib/python3.11/dist-packages (from umap-learn) (1.6.1)\n",
            "Requirement already satisfied: numba>=0.51.2 in /usr/local/lib/python3.11/dist-packages (from umap-learn) (0.60.0)\n",
            "Requirement already satisfied: pynndescent>=0.5 in /usr/local/lib/python3.11/dist-packages (from umap-learn) (0.5.13)\n",
            "Requirement already satisfied: tqdm in /usr/local/lib/python3.11/dist-packages (from umap-learn) (4.67.1)\n",
            "Requirement already satisfied: llvmlite<0.44,>=0.43.0dev0 in /usr/local/lib/python3.11/dist-packages (from numba>=0.51.2->umap-learn) (0.43.0)\n",
            "Requirement already satisfied: joblib>=0.11 in /usr/local/lib/python3.11/dist-packages (from pynndescent>=0.5->umap-learn) (1.4.2)\n",
            "Requirement already satisfied: threadpoolctl>=3.1.0 in /usr/local/lib/python3.11/dist-packages (from scikit-learn>=0.22->umap-learn) (3.6.0)\n"
          ]
        }
      ]
    },
    {
      "cell_type": "code",
      "source": [
        "import requests\n",
        "from bs4 import BeautifulSoup\n",
        "import pandas as pd\n",
        "import numpy as np\n",
        "import time"
      ],
      "metadata": {
        "id": "a3_v_edVk3do"
      },
      "execution_count": 1,
      "outputs": []
    },
    {
      "cell_type": "code",
      "source": [
        "with open('/content/PMIDs_list.txt') as file:\n",
        "    pmids = set([line.strip() for line in file])"
      ],
      "metadata": {
        "id": "x2Ce_zN5kl9l"
      },
      "execution_count": 2,
      "outputs": []
    },
    {
      "cell_type": "code",
      "execution_count": 3,
      "metadata": {
        "colab": {
          "base_uri": "https://localhost:8080/"
        },
        "collapsed": true,
        "id": "TZK3wAtojtYz",
        "outputId": "4b446bd1-2c61-4614-f845-db019822d7f4"
      },
      "outputs": [
        {
          "output_type": "execute_result",
          "data": {
            "text/plain": [
              "145"
            ]
          },
          "metadata": {},
          "execution_count": 3
        }
      ],
      "source": [
        "elink_url = \"https://eutils.ncbi.nlm.nih.gov/entrez/eutils/elink.fcgi\"\n",
        "params = {\n",
        "    \"dbfrom\": \"pubmed\",\n",
        "    \"db\": \"gds\",\n",
        "    \"id\": ','.join(pmids),\n",
        "    \"retmode\": \"json\"\n",
        "}\n",
        "\n",
        "# if api_key:\n",
        "#     params[\"api_key\"] = api_key\n",
        "\n",
        "r = requests.get(elink_url, params=params).json()\n",
        "\n",
        "geo_ids = r['linksets'][0]['linksetdbs'][0]['links']\n",
        "len(geo_ids)"
      ]
    },
    {
      "cell_type": "code",
      "source": [
        "esummary_url = \"https://eutils.ncbi.nlm.nih.gov/entrez/eutils/esummary.fcgi\"\n",
        "\n",
        "params2 = {\n",
        "        \"db\": \"gds\",\n",
        "        \"id\": ','.join(geo_ids),\n",
        "        \"retmode\": \"json\"\n",
        "    }\n",
        "r = requests.get(esummary_url, params=params2).json()"
      ],
      "metadata": {
        "id": "aVBNuZg-5TEN"
      },
      "execution_count": 4,
      "outputs": []
    },
    {
      "cell_type": "code",
      "source": [
        "data = []\n",
        "for geo_id in geo_ids:\n",
        "    geo_info = r['result'][geo_id]\n",
        "    gse_id = 'GSE' + geo_info['gse']\n",
        "    title = 'Title: ' + geo_info['title']\n",
        "    experiment_type = 'Experiment type: ' + geo_info['gdstype']\n",
        "    summary = 'Summary: ' + geo_info['summary']\n",
        "    organism = 'Organism: ' + geo_info['taxon']\n",
        "\n",
        "    link = f'https://www.ncbi.nlm.nih.gov/geo/query/acc.cgi?acc={gse_id}'\n",
        "    response = requests.get(link)\n",
        "    if response.status_code == 200:\n",
        "        soup = BeautifulSoup(response.text, 'html.parser')\n",
        "        overall_design = 'Overall design: ' + '; '.join(soup.find(\"td\", string=\"Overall design\").find_next_sibling(\"td\").stripped_strings)\n",
        "    else:\n",
        "        print(f\"Failed to retrieve data from {link}\")\n",
        "        overall_design = 'Overall design: not fetched'\n",
        "\n",
        "    contents = ' '.join([title, experiment_type, summary, organism, overall_design])\n",
        "\n",
        "    relevant_pubmedids = [pubmedid for pubmedid in geo_info['pubmedids'] if pubmedid in pmids]\n",
        "    data.append({\n",
        "        'geo_id': geo_id,\n",
        "        'gse_id': gse_id,\n",
        "        'contents': contents,\n",
        "        'pmids': relevant_pubmedids,\n",
        "    })\n",
        "\n",
        "df = pd.DataFrame(data)"
      ],
      "metadata": {
        "id": "-Bbt5HGc9w9h"
      },
      "execution_count": 5,
      "outputs": []
    },
    {
      "cell_type": "code",
      "source": [
        "df"
      ],
      "metadata": {
        "colab": {
          "base_uri": "https://localhost:8080/",
          "height": 423
        },
        "id": "6B0h_roBAycf",
        "outputId": "9d6999bb-ed42-448e-bf49-ae1afce2dfaa"
      },
      "execution_count": 6,
      "outputs": [
        {
          "output_type": "execute_result",
          "data": {
            "text/plain": [
              "        geo_id     gse_id                                           contents  \\\n",
              "0    200272793  GSE272793  Title: An atlas of small non-coding RNAs in Hu...   \n",
              "1    200268524  GSE268524  Title: A robust circulating microRNA signature...   \n",
              "2    200263013  GSE263013  Title: Repetitive element transcript accumulat...   \n",
              "3    200261729  GSE261729  Title: Investigating the transcriptional heter...   \n",
              "4    200254970  GSE254970  Title: Age, Sex and Alzheimer’s disease: a lon...   \n",
              "..         ...        ...                                                ...   \n",
              "140  200018126   GSE18126  Title: Methylation status in AG- and PG-derive...   \n",
              "141  200017554   GSE17554  Title: Nucleosome deposition and DNA methylati...   \n",
              "142  200015745   GSE15745  Title: Abundant Quantitative Trait Loci for Cp...   \n",
              "143  200009990    GSE9990  Title: Transcriptional profiles of rodent hipp...   \n",
              "144       3915    GSE9990  Title: Aging and cognitive decline: hippocampu...   \n",
              "\n",
              "                    pmids  \n",
              "0              [39367016]  \n",
              "1              [39838364]  \n",
              "2              [38641753]  \n",
              "3              [39762647]  \n",
              "4              [38909241]  \n",
              "..                    ...  \n",
              "140            [20385583]  \n",
              "141  [19723310, 20602769]  \n",
              "142            [20485568]  \n",
              "143            [19211887]  \n",
              "144            [19211887]  \n",
              "\n",
              "[145 rows x 4 columns]"
            ],
            "text/html": [
              "\n",
              "  <div id=\"df-5cac4063-31b1-4fb3-b54a-0d9d30ebee94\" class=\"colab-df-container\">\n",
              "    <div>\n",
              "<style scoped>\n",
              "    .dataframe tbody tr th:only-of-type {\n",
              "        vertical-align: middle;\n",
              "    }\n",
              "\n",
              "    .dataframe tbody tr th {\n",
              "        vertical-align: top;\n",
              "    }\n",
              "\n",
              "    .dataframe thead th {\n",
              "        text-align: right;\n",
              "    }\n",
              "</style>\n",
              "<table border=\"1\" class=\"dataframe\">\n",
              "  <thead>\n",
              "    <tr style=\"text-align: right;\">\n",
              "      <th></th>\n",
              "      <th>geo_id</th>\n",
              "      <th>gse_id</th>\n",
              "      <th>contents</th>\n",
              "      <th>pmids</th>\n",
              "    </tr>\n",
              "  </thead>\n",
              "  <tbody>\n",
              "    <tr>\n",
              "      <th>0</th>\n",
              "      <td>200272793</td>\n",
              "      <td>GSE272793</td>\n",
              "      <td>Title: An atlas of small non-coding RNAs in Hu...</td>\n",
              "      <td>[39367016]</td>\n",
              "    </tr>\n",
              "    <tr>\n",
              "      <th>1</th>\n",
              "      <td>200268524</td>\n",
              "      <td>GSE268524</td>\n",
              "      <td>Title: A robust circulating microRNA signature...</td>\n",
              "      <td>[39838364]</td>\n",
              "    </tr>\n",
              "    <tr>\n",
              "      <th>2</th>\n",
              "      <td>200263013</td>\n",
              "      <td>GSE263013</td>\n",
              "      <td>Title: Repetitive element transcript accumulat...</td>\n",
              "      <td>[38641753]</td>\n",
              "    </tr>\n",
              "    <tr>\n",
              "      <th>3</th>\n",
              "      <td>200261729</td>\n",
              "      <td>GSE261729</td>\n",
              "      <td>Title: Investigating the transcriptional heter...</td>\n",
              "      <td>[39762647]</td>\n",
              "    </tr>\n",
              "    <tr>\n",
              "      <th>4</th>\n",
              "      <td>200254970</td>\n",
              "      <td>GSE254970</td>\n",
              "      <td>Title: Age, Sex and Alzheimer’s disease: a lon...</td>\n",
              "      <td>[38909241]</td>\n",
              "    </tr>\n",
              "    <tr>\n",
              "      <th>...</th>\n",
              "      <td>...</td>\n",
              "      <td>...</td>\n",
              "      <td>...</td>\n",
              "      <td>...</td>\n",
              "    </tr>\n",
              "    <tr>\n",
              "      <th>140</th>\n",
              "      <td>200018126</td>\n",
              "      <td>GSE18126</td>\n",
              "      <td>Title: Methylation status in AG- and PG-derive...</td>\n",
              "      <td>[20385583]</td>\n",
              "    </tr>\n",
              "    <tr>\n",
              "      <th>141</th>\n",
              "      <td>200017554</td>\n",
              "      <td>GSE17554</td>\n",
              "      <td>Title: Nucleosome deposition and DNA methylati...</td>\n",
              "      <td>[19723310, 20602769]</td>\n",
              "    </tr>\n",
              "    <tr>\n",
              "      <th>142</th>\n",
              "      <td>200015745</td>\n",
              "      <td>GSE15745</td>\n",
              "      <td>Title: Abundant Quantitative Trait Loci for Cp...</td>\n",
              "      <td>[20485568]</td>\n",
              "    </tr>\n",
              "    <tr>\n",
              "      <th>143</th>\n",
              "      <td>200009990</td>\n",
              "      <td>GSE9990</td>\n",
              "      <td>Title: Transcriptional profiles of rodent hipp...</td>\n",
              "      <td>[19211887]</td>\n",
              "    </tr>\n",
              "    <tr>\n",
              "      <th>144</th>\n",
              "      <td>3915</td>\n",
              "      <td>GSE9990</td>\n",
              "      <td>Title: Aging and cognitive decline: hippocampu...</td>\n",
              "      <td>[19211887]</td>\n",
              "    </tr>\n",
              "  </tbody>\n",
              "</table>\n",
              "<p>145 rows × 4 columns</p>\n",
              "</div>\n",
              "    <div class=\"colab-df-buttons\">\n",
              "\n",
              "  <div class=\"colab-df-container\">\n",
              "    <button class=\"colab-df-convert\" onclick=\"convertToInteractive('df-5cac4063-31b1-4fb3-b54a-0d9d30ebee94')\"\n",
              "            title=\"Convert this dataframe to an interactive table.\"\n",
              "            style=\"display:none;\">\n",
              "\n",
              "  <svg xmlns=\"http://www.w3.org/2000/svg\" height=\"24px\" viewBox=\"0 -960 960 960\">\n",
              "    <path d=\"M120-120v-720h720v720H120Zm60-500h600v-160H180v160Zm220 220h160v-160H400v160Zm0 220h160v-160H400v160ZM180-400h160v-160H180v160Zm440 0h160v-160H620v160ZM180-180h160v-160H180v160Zm440 0h160v-160H620v160Z\"/>\n",
              "  </svg>\n",
              "    </button>\n",
              "\n",
              "  <style>\n",
              "    .colab-df-container {\n",
              "      display:flex;\n",
              "      gap: 12px;\n",
              "    }\n",
              "\n",
              "    .colab-df-convert {\n",
              "      background-color: #E8F0FE;\n",
              "      border: none;\n",
              "      border-radius: 50%;\n",
              "      cursor: pointer;\n",
              "      display: none;\n",
              "      fill: #1967D2;\n",
              "      height: 32px;\n",
              "      padding: 0 0 0 0;\n",
              "      width: 32px;\n",
              "    }\n",
              "\n",
              "    .colab-df-convert:hover {\n",
              "      background-color: #E2EBFA;\n",
              "      box-shadow: 0px 1px 2px rgba(60, 64, 67, 0.3), 0px 1px 3px 1px rgba(60, 64, 67, 0.15);\n",
              "      fill: #174EA6;\n",
              "    }\n",
              "\n",
              "    .colab-df-buttons div {\n",
              "      margin-bottom: 4px;\n",
              "    }\n",
              "\n",
              "    [theme=dark] .colab-df-convert {\n",
              "      background-color: #3B4455;\n",
              "      fill: #D2E3FC;\n",
              "    }\n",
              "\n",
              "    [theme=dark] .colab-df-convert:hover {\n",
              "      background-color: #434B5C;\n",
              "      box-shadow: 0px 1px 3px 1px rgba(0, 0, 0, 0.15);\n",
              "      filter: drop-shadow(0px 1px 2px rgba(0, 0, 0, 0.3));\n",
              "      fill: #FFFFFF;\n",
              "    }\n",
              "  </style>\n",
              "\n",
              "    <script>\n",
              "      const buttonEl =\n",
              "        document.querySelector('#df-5cac4063-31b1-4fb3-b54a-0d9d30ebee94 button.colab-df-convert');\n",
              "      buttonEl.style.display =\n",
              "        google.colab.kernel.accessAllowed ? 'block' : 'none';\n",
              "\n",
              "      async function convertToInteractive(key) {\n",
              "        const element = document.querySelector('#df-5cac4063-31b1-4fb3-b54a-0d9d30ebee94');\n",
              "        const dataTable =\n",
              "          await google.colab.kernel.invokeFunction('convertToInteractive',\n",
              "                                                    [key], {});\n",
              "        if (!dataTable) return;\n",
              "\n",
              "        const docLinkHtml = 'Like what you see? Visit the ' +\n",
              "          '<a target=\"_blank\" href=https://colab.research.google.com/notebooks/data_table.ipynb>data table notebook</a>'\n",
              "          + ' to learn more about interactive tables.';\n",
              "        element.innerHTML = '';\n",
              "        dataTable['output_type'] = 'display_data';\n",
              "        await google.colab.output.renderOutput(dataTable, element);\n",
              "        const docLink = document.createElement('div');\n",
              "        docLink.innerHTML = docLinkHtml;\n",
              "        element.appendChild(docLink);\n",
              "      }\n",
              "    </script>\n",
              "  </div>\n",
              "\n",
              "\n",
              "<div id=\"df-92adbf97-c63d-45bc-bc3b-092d669b8f29\">\n",
              "  <button class=\"colab-df-quickchart\" onclick=\"quickchart('df-92adbf97-c63d-45bc-bc3b-092d669b8f29')\"\n",
              "            title=\"Suggest charts\"\n",
              "            style=\"display:none;\">\n",
              "\n",
              "<svg xmlns=\"http://www.w3.org/2000/svg\" height=\"24px\"viewBox=\"0 0 24 24\"\n",
              "     width=\"24px\">\n",
              "    <g>\n",
              "        <path d=\"M19 3H5c-1.1 0-2 .9-2 2v14c0 1.1.9 2 2 2h14c1.1 0 2-.9 2-2V5c0-1.1-.9-2-2-2zM9 17H7v-7h2v7zm4 0h-2V7h2v10zm4 0h-2v-4h2v4z\"/>\n",
              "    </g>\n",
              "</svg>\n",
              "  </button>\n",
              "\n",
              "<style>\n",
              "  .colab-df-quickchart {\n",
              "      --bg-color: #E8F0FE;\n",
              "      --fill-color: #1967D2;\n",
              "      --hover-bg-color: #E2EBFA;\n",
              "      --hover-fill-color: #174EA6;\n",
              "      --disabled-fill-color: #AAA;\n",
              "      --disabled-bg-color: #DDD;\n",
              "  }\n",
              "\n",
              "  [theme=dark] .colab-df-quickchart {\n",
              "      --bg-color: #3B4455;\n",
              "      --fill-color: #D2E3FC;\n",
              "      --hover-bg-color: #434B5C;\n",
              "      --hover-fill-color: #FFFFFF;\n",
              "      --disabled-bg-color: #3B4455;\n",
              "      --disabled-fill-color: #666;\n",
              "  }\n",
              "\n",
              "  .colab-df-quickchart {\n",
              "    background-color: var(--bg-color);\n",
              "    border: none;\n",
              "    border-radius: 50%;\n",
              "    cursor: pointer;\n",
              "    display: none;\n",
              "    fill: var(--fill-color);\n",
              "    height: 32px;\n",
              "    padding: 0;\n",
              "    width: 32px;\n",
              "  }\n",
              "\n",
              "  .colab-df-quickchart:hover {\n",
              "    background-color: var(--hover-bg-color);\n",
              "    box-shadow: 0 1px 2px rgba(60, 64, 67, 0.3), 0 1px 3px 1px rgba(60, 64, 67, 0.15);\n",
              "    fill: var(--button-hover-fill-color);\n",
              "  }\n",
              "\n",
              "  .colab-df-quickchart-complete:disabled,\n",
              "  .colab-df-quickchart-complete:disabled:hover {\n",
              "    background-color: var(--disabled-bg-color);\n",
              "    fill: var(--disabled-fill-color);\n",
              "    box-shadow: none;\n",
              "  }\n",
              "\n",
              "  .colab-df-spinner {\n",
              "    border: 2px solid var(--fill-color);\n",
              "    border-color: transparent;\n",
              "    border-bottom-color: var(--fill-color);\n",
              "    animation:\n",
              "      spin 1s steps(1) infinite;\n",
              "  }\n",
              "\n",
              "  @keyframes spin {\n",
              "    0% {\n",
              "      border-color: transparent;\n",
              "      border-bottom-color: var(--fill-color);\n",
              "      border-left-color: var(--fill-color);\n",
              "    }\n",
              "    20% {\n",
              "      border-color: transparent;\n",
              "      border-left-color: var(--fill-color);\n",
              "      border-top-color: var(--fill-color);\n",
              "    }\n",
              "    30% {\n",
              "      border-color: transparent;\n",
              "      border-left-color: var(--fill-color);\n",
              "      border-top-color: var(--fill-color);\n",
              "      border-right-color: var(--fill-color);\n",
              "    }\n",
              "    40% {\n",
              "      border-color: transparent;\n",
              "      border-right-color: var(--fill-color);\n",
              "      border-top-color: var(--fill-color);\n",
              "    }\n",
              "    60% {\n",
              "      border-color: transparent;\n",
              "      border-right-color: var(--fill-color);\n",
              "    }\n",
              "    80% {\n",
              "      border-color: transparent;\n",
              "      border-right-color: var(--fill-color);\n",
              "      border-bottom-color: var(--fill-color);\n",
              "    }\n",
              "    90% {\n",
              "      border-color: transparent;\n",
              "      border-bottom-color: var(--fill-color);\n",
              "    }\n",
              "  }\n",
              "</style>\n",
              "\n",
              "  <script>\n",
              "    async function quickchart(key) {\n",
              "      const quickchartButtonEl =\n",
              "        document.querySelector('#' + key + ' button');\n",
              "      quickchartButtonEl.disabled = true;  // To prevent multiple clicks.\n",
              "      quickchartButtonEl.classList.add('colab-df-spinner');\n",
              "      try {\n",
              "        const charts = await google.colab.kernel.invokeFunction(\n",
              "            'suggestCharts', [key], {});\n",
              "      } catch (error) {\n",
              "        console.error('Error during call to suggestCharts:', error);\n",
              "      }\n",
              "      quickchartButtonEl.classList.remove('colab-df-spinner');\n",
              "      quickchartButtonEl.classList.add('colab-df-quickchart-complete');\n",
              "    }\n",
              "    (() => {\n",
              "      let quickchartButtonEl =\n",
              "        document.querySelector('#df-92adbf97-c63d-45bc-bc3b-092d669b8f29 button');\n",
              "      quickchartButtonEl.style.display =\n",
              "        google.colab.kernel.accessAllowed ? 'block' : 'none';\n",
              "    })();\n",
              "  </script>\n",
              "</div>\n",
              "\n",
              "  <div id=\"id_6bd7c688-0532-4caf-b698-075f58dd34fa\">\n",
              "    <style>\n",
              "      .colab-df-generate {\n",
              "        background-color: #E8F0FE;\n",
              "        border: none;\n",
              "        border-radius: 50%;\n",
              "        cursor: pointer;\n",
              "        display: none;\n",
              "        fill: #1967D2;\n",
              "        height: 32px;\n",
              "        padding: 0 0 0 0;\n",
              "        width: 32px;\n",
              "      }\n",
              "\n",
              "      .colab-df-generate:hover {\n",
              "        background-color: #E2EBFA;\n",
              "        box-shadow: 0px 1px 2px rgba(60, 64, 67, 0.3), 0px 1px 3px 1px rgba(60, 64, 67, 0.15);\n",
              "        fill: #174EA6;\n",
              "      }\n",
              "\n",
              "      [theme=dark] .colab-df-generate {\n",
              "        background-color: #3B4455;\n",
              "        fill: #D2E3FC;\n",
              "      }\n",
              "\n",
              "      [theme=dark] .colab-df-generate:hover {\n",
              "        background-color: #434B5C;\n",
              "        box-shadow: 0px 1px 3px 1px rgba(0, 0, 0, 0.15);\n",
              "        filter: drop-shadow(0px 1px 2px rgba(0, 0, 0, 0.3));\n",
              "        fill: #FFFFFF;\n",
              "      }\n",
              "    </style>\n",
              "    <button class=\"colab-df-generate\" onclick=\"generateWithVariable('df')\"\n",
              "            title=\"Generate code using this dataframe.\"\n",
              "            style=\"display:none;\">\n",
              "\n",
              "  <svg xmlns=\"http://www.w3.org/2000/svg\" height=\"24px\"viewBox=\"0 0 24 24\"\n",
              "       width=\"24px\">\n",
              "    <path d=\"M7,19H8.4L18.45,9,17,7.55,7,17.6ZM5,21V16.75L18.45,3.32a2,2,0,0,1,2.83,0l1.4,1.43a1.91,1.91,0,0,1,.58,1.4,1.91,1.91,0,0,1-.58,1.4L9.25,21ZM18.45,9,17,7.55Zm-12,3A5.31,5.31,0,0,0,4.9,8.1,5.31,5.31,0,0,0,1,6.5,5.31,5.31,0,0,0,4.9,4.9,5.31,5.31,0,0,0,6.5,1,5.31,5.31,0,0,0,8.1,4.9,5.31,5.31,0,0,0,12,6.5,5.46,5.46,0,0,0,6.5,12Z\"/>\n",
              "  </svg>\n",
              "    </button>\n",
              "    <script>\n",
              "      (() => {\n",
              "      const buttonEl =\n",
              "        document.querySelector('#id_6bd7c688-0532-4caf-b698-075f58dd34fa button.colab-df-generate');\n",
              "      buttonEl.style.display =\n",
              "        google.colab.kernel.accessAllowed ? 'block' : 'none';\n",
              "\n",
              "      buttonEl.onclick = () => {\n",
              "        google.colab.notebook.generateWithVariable('df');\n",
              "      }\n",
              "      })();\n",
              "    </script>\n",
              "  </div>\n",
              "\n",
              "    </div>\n",
              "  </div>\n"
            ],
            "application/vnd.google.colaboratory.intrinsic+json": {
              "type": "dataframe",
              "variable_name": "df",
              "summary": "{\n  \"name\": \"df\",\n  \"rows\": 145,\n  \"fields\": [\n    {\n      \"column\": \"geo_id\",\n      \"properties\": {\n        \"dtype\": \"string\",\n        \"num_unique_values\": 145,\n        \"samples\": [\n          \"200146026\",\n          \"200018126\",\n          \"200197063\"\n        ],\n        \"semantic_type\": \"\",\n        \"description\": \"\"\n      }\n    },\n    {\n      \"column\": \"gse_id\",\n      \"properties\": {\n        \"dtype\": \"string\",\n        \"num_unique_values\": 144,\n        \"samples\": [\n          \"GSE63943\",\n          \"GSE214496\",\n          \"GSE130051\"\n        ],\n        \"semantic_type\": \"\",\n        \"description\": \"\"\n      }\n    },\n    {\n      \"column\": \"contents\",\n      \"properties\": {\n        \"dtype\": \"string\",\n        \"num_unique_values\": 145,\n        \"samples\": [\n          \"Title: single cell RNA-seq analysis of ovarian cancer ascites Experiment type: Expression profiling by high throughput sequencing Summary: To understand the cellular diversity within malignant ascites, we profiled ~11,000 single cells from 22 samples by Smartseq2 and by 10x. Organism: Homo sapiens Overall design: Ascites samples were either depleted of CD45+ cells and profiled by 10x or sorted by EPCAM+CD24+ and profiled by SmartSeq2; Note from Submitter: We have difficulties in approving raw data submission of data from clinical patient samples to GEO or dbGAP and are therefore submitting at this point only the processed data and the metadata.  In parallel with the process of granting approval for raw data submission to dbGAP we are also using another repository to which we are allowed to deposit raw data (DUOS@broadinstitute.org).\",\n          \"Title: Methylation status in AG- and PG-derived cells and sperm Experiment type: Methylation profiling by genome tiling array Summary: Genomic imprinting describes the expression of a subset of mammalian genes from one parental chromosome. The parent-of-origin specific expression of imprinted genes relies on DNA methylation of CpG-dinucleotides at differentially methylated regions (DMRs) during gametogenesis. We identified the paternally methylated DMRs at mouse chromosome 1 near the imprinted Zdbf2 gene using a methylated-DNA immunoprecipitation-on-chip (meDIP-on-chip) method applied to DNA from parthenogenetic (PG)- and androgenetic (AG)-derived cells and sperm.  Organism: Mus musculus Overall design: To identify novel DMRs, genome-wide methylation analysis of three samples were performed using MeDIP and whole genome tiling array.\",\n          \"Title: A gene silencing screen uncovers diverse tools for targeted gene repression in Arabidopsis Experiment type: Genome binding/occupancy profiling by high throughput sequencing; Expression profiling by high throughput sequencing; Methylation profiling by high throughput sequencing Summary: DNA methylation has been utilized for target gene silencing in plants, however it\\u2019s not well-understood whether other silencing pathways can be also used to manipulate gene expression. Here we performed a gain-of-function screen for proteins that could silence a target gene when fused to an artificial zinc finger. We uncovered many proteins that suppressed gene expression through DNA methylation, histone H3K27me3 deposition, H3K4me3 demethylation, histone deacetylation, inhibition of RNA Polymerase II transcription elongation or Ser-5 dephosphorylation. These proteins also silenced many other genes with different efficacy, and a machine learning model could accurately predict the efficacy of each silencer based on various chromatin features of the target loci. Furthermore, some proteins were also able to target gene silencing when used in a dCas9-SunTag system. These results provide a more comprehensive understanding of epigenetic regulatory pathways in plants and provide an armament of tools for targeted gene manipulation.  Organism: Arabidopsis thaliana Overall design: This dataset includes ChIP-seq, RNA-seq and BS-PCR to understand the molecular mechanism of Arabidopsis ZF targeting proteins.\"\n        ],\n        \"semantic_type\": \"\",\n        \"description\": \"\"\n      }\n    },\n    {\n      \"column\": \"pmids\",\n      \"properties\": {\n        \"dtype\": \"object\",\n        \"semantic_type\": \"\",\n        \"description\": \"\"\n      }\n    }\n  ]\n}"
            }
          },
          "metadata": {},
          "execution_count": 6
        }
      ]
    },
    {
      "cell_type": "markdown",
      "source": [
        "# TF-IDF vectorizing"
      ],
      "metadata": {
        "id": "eo_PJZF5Mp3F"
      }
    },
    {
      "cell_type": "code",
      "source": [
        "from sklearn.feature_extraction.text import TfidfVectorizer"
      ],
      "metadata": {
        "id": "dWuajAkP0AQa"
      },
      "execution_count": 7,
      "outputs": []
    },
    {
      "cell_type": "code",
      "source": [
        "contents = df.contents"
      ],
      "metadata": {
        "id": "7CYpEbgmOrX8"
      },
      "execution_count": 8,
      "outputs": []
    },
    {
      "cell_type": "code",
      "source": [
        "import nltk\n",
        "from nltk.tokenize import RegexpTokenizer\n",
        "import nltk.data\n",
        "nltk.download('stopwords')\n",
        "import string\n",
        "\n",
        "stopwords = set(nltk.corpus.stopwords.words('english'))\n",
        "stop_set = stopwords | set(list(string.punctuation))\n",
        "tokenizer = RegexpTokenizer(r'\\w+')\n",
        "stemmer = nltk.stem.SnowballStemmer('english')\n",
        "\n",
        "def regexp_stemm_tokenize(text: str) -> list[str]:\n",
        "    tokens = tokenizer.tokenize(text.lower())\n",
        "    return [stemmer.stem(token) for token in tokens\n",
        "            if token not in stop_set and len(token) > 1]\n",
        "\n",
        "print(contents[0])\n",
        "print(' '.join(regexp_stemm_tokenize(contents[0])))"
      ],
      "metadata": {
        "colab": {
          "base_uri": "https://localhost:8080/"
        },
        "id": "TAzWDOGdr5ST",
        "outputId": "32bf7611-1b9d-41ef-cd1a-bfcdb7dd6e6b"
      },
      "execution_count": 9,
      "outputs": [
        {
          "output_type": "stream",
          "name": "stdout",
          "text": [
            "Title: An atlas of small non-coding RNAs in Human Preimplantation Development (Mouse embryo RNA-seq) Experiment type: Expression profiling by high throughput sequencing Summary: Our current understanding of the molecular circuitries that govern early embryogenesis remains limited, particularly in the human. Small non-coding RNAs (sncRNAs) regulate gene expression transcriptionally and post-transcriptionally, however, the expression of specific biotypes and their dynamics during preimplantation development remains to be determined. Using Small-seq, we identified the abundance of and dynamic expression of piRNA, rRNA, snoRNA, tRNA, and miRNA in human embryos from day 3 to 7. Among the biotypes, both miRNA and snoRNA displayed distinct associations with developmental time and lineage formation, many of which were  found to target key gene expression programs in pluripotency and lineage establishment. We observed an enrichment of the chromosome 19 miRNA cluster (C19MC) in the trophectoderm (TE), and the chromosome 14 miRNA cluster (C14MC) and MEG8-related snoRNAs in the inner cell mass (ICM). Additionally, isomiR analyses suggested miRNAs are modified differentially during blastulation. Finally, six novel miRNAs and their embryo gene targets we identified. Our analyses provide the first comprehensive measure of sncRNA biotypes and their corresponding dynamics throughout human preimplantation development, providing an extensive resource. Elucidating the functional roles of sncRNAs during preimplantation development will provide insight into the establishment of the blastocyst and exit from pluripotency.  Further, better understanding the miRNA regulatory programs in human embryogenesis will inform strategies to improve embryo development and outcomes of assisted reproductive technologies. We anticipate broad usage of our data as a resource for studies aimed at understanding embryogenesis, optimising stem cell-based models, assisted reproductive technology, and stem cell biology. Organism: Mus musculus Overall design: Upon reaching the desired developmental stage (8-cell stage at E2.5 or 32-cell stage at E3.5), several control and mimic-treated mouse embryos (3-5 embryos per group per timepoint) were collected and sequenced to investigate the function of miR-381-3p in mouse preimplantation embryosã\n",
            "titl atlas small non code rnas human preimplant develop mous embryo rna seq experi type express profil high throughput sequenc summari current understand molecular circuitri govern earli embryogenesi remain limit particular human small non code rnas sncrnas regul gene express transcript post transcript howev express specif biotyp dynam preimplant develop remain determin use small seq identifi abund dynam express pirna rrna snorna trna mirna human embryo day among biotyp mirna snorna display distinct associ development time lineag format mani found target key gene express program pluripot lineag establish observ enrich chromosom 19 mirna cluster c19mc trophectoderm te chromosom 14 mirna cluster c14mc meg8 relat snorna inner cell mass icm addit isomir analys suggest mirna modifi differenti blastul final six novel mirna embryo gene target identifi analys provid first comprehens measur sncrna biotyp correspond dynam throughout human preimplant develop provid extens resourc elucid function role sncrnas preimplant develop provid insight establish blastocyst exit pluripot better understand mirna regulatori program human embryogenesi inform strategi improv embryo develop outcom assist reproduct technolog anticip broad usag data resourc studi aim understand embryogenesi optimis stem cell base model assist reproduct technolog stem cell biolog organ mus musculus overal design upon reach desir development stage cell stage e2 32 cell stage e3 sever control mimic treat mous embryo embryo per group per timepoint collect sequenc investig function mir 381 3p mous preimplant embryosã\n"
          ]
        },
        {
          "output_type": "stream",
          "name": "stderr",
          "text": [
            "[nltk_data] Downloading package stopwords to /root/nltk_data...\n",
            "[nltk_data]   Unzipping corpora/stopwords.zip.\n"
          ]
        }
      ]
    },
    {
      "cell_type": "code",
      "source": [
        "contents_tokenized = [' '.join(regexp_stemm_tokenize(content)) for content in contents]"
      ],
      "metadata": {
        "id": "GpCoVZExwXAC"
      },
      "execution_count": 10,
      "outputs": []
    },
    {
      "cell_type": "code",
      "source": [
        "contents[0]"
      ],
      "metadata": {
        "colab": {
          "base_uri": "https://localhost:8080/",
          "height": 165
        },
        "id": "LBZp8ktvw2da",
        "outputId": "7b39fbd6-79cb-4ca3-96de-1df54afdbd09"
      },
      "execution_count": 11,
      "outputs": [
        {
          "output_type": "execute_result",
          "data": {
            "text/plain": [
              "'Title: An atlas of small non-coding RNAs in Human Preimplantation Development (Mouse embryo RNA-seq) Experiment type: Expression profiling by high throughput sequencing Summary: Our current understanding of the molecular circuitries that govern early embryogenesis remains limited, particularly in the human. Small non-coding RNAs (sncRNAs) regulate gene expression transcriptionally and post-transcriptionally, however, the expression of specific biotypes and their dynamics during preimplantation development remains to be determined. Using Small-seq, we identified the abundance of and dynamic expression of piRNA, rRNA, snoRNA, tRNA, and miRNA in human embryos from day 3 to 7. Among the biotypes, both miRNA and snoRNA displayed distinct associations with developmental time and lineage formation, many of which were  found to target key gene expression programs in pluripotency and lineage establishment. We observed an enrichment of the chromosome 19 miRNA cluster (C19MC) in the trophectoderm (TE), and the chromosome 14 miRNA cluster (C14MC) and MEG8-related snoRNAs in the inner cell mass (ICM). Additionally, isomiR analyses suggested miRNAs are modified differentially during blastulation. Finally, six novel miRNAs and their embryo gene targets we identified. Our analyses provide the first comprehensive measure of sncRNA biotypes and their corresponding dynamics throughout human preimplantation development, providing an extensive resource. Elucidating the functional roles of sncRNAs during preimplantation development will provide insight into the establishment of the blastocyst and exit from pluripotency.  Further, better understanding the miRNA regulatory programs in human embryogenesis will inform strategies to improve embryo development and outcomes of assisted reproductive technologies. We anticipate broad usage of our data as a resource for studies aimed at understanding embryogenesis, optimising stem cell-based models, assisted reproductive technology, and stem cell biology. Organism: Mus musculus Overall design: Upon reaching the desired developmental stage (8-cell stage at E2.5 or 32-cell stage at E3.5), several control and mimic-treated mouse embryos (3-5 embryos per group per timepoint) were collected and sequenced to investigate the function of miR-381-3p in mouse preimplantation embryosã\\x80\\x82'"
            ],
            "application/vnd.google.colaboratory.intrinsic+json": {
              "type": "string"
            }
          },
          "metadata": {},
          "execution_count": 11
        }
      ]
    },
    {
      "cell_type": "code",
      "source": [
        "contents_tokenized[0]"
      ],
      "metadata": {
        "colab": {
          "base_uri": "https://localhost:8080/",
          "height": 165
        },
        "id": "8vwXhPxpy7lw",
        "outputId": "d8bbe10f-6620-40bd-9c64-b195780f4c14"
      },
      "execution_count": 12,
      "outputs": [
        {
          "output_type": "execute_result",
          "data": {
            "text/plain": [
              "'titl atlas small non code rnas human preimplant develop mous embryo rna seq experi type express profil high throughput sequenc summari current understand molecular circuitri govern earli embryogenesi remain limit particular human small non code rnas sncrnas regul gene express transcript post transcript howev express specif biotyp dynam preimplant develop remain determin use small seq identifi abund dynam express pirna rrna snorna trna mirna human embryo day among biotyp mirna snorna display distinct associ development time lineag format mani found target key gene express program pluripot lineag establish observ enrich chromosom 19 mirna cluster c19mc trophectoderm te chromosom 14 mirna cluster c14mc meg8 relat snorna inner cell mass icm addit isomir analys suggest mirna modifi differenti blastul final six novel mirna embryo gene target identifi analys provid first comprehens measur sncrna biotyp correspond dynam throughout human preimplant develop provid extens resourc elucid function role sncrnas preimplant develop provid insight establish blastocyst exit pluripot better understand mirna regulatori program human embryogenesi inform strategi improv embryo develop outcom assist reproduct technolog anticip broad usag data resourc studi aim understand embryogenesi optimis stem cell base model assist reproduct technolog stem cell biolog organ mus musculus overal design upon reach desir development stage cell stage e2 32 cell stage e3 sever control mimic treat mous embryo embryo per group per timepoint collect sequenc investig function mir 381 3p mous preimplant embryosã'"
            ],
            "application/vnd.google.colaboratory.intrinsic+json": {
              "type": "string"
            }
          },
          "metadata": {},
          "execution_count": 12
        }
      ]
    },
    {
      "cell_type": "code",
      "source": [
        "vectorizer = TfidfVectorizer(\n",
        "    lowercase=True,\n",
        "    max_df=0.9,\n",
        "    min_df=5,\n",
        "    # ngram_range=(1,3),\n",
        "    stop_words='english',\n",
        ")"
      ],
      "metadata": {
        "id": "cqtBRIz8zBBa"
      },
      "execution_count": 36,
      "outputs": []
    },
    {
      "cell_type": "code",
      "source": [
        "vectors = vectorizer.fit_transform(contents_tokenized)\n",
        "# vectors = vectorizer.fit_transform(contents)\n",
        "print(f'Shape: {vectors.shape}')\n",
        "print(f'Density: {vectors.nnz / np.prod(vectors.shape):.3f}')"
      ],
      "metadata": {
        "colab": {
          "base_uri": "https://localhost:8080/"
        },
        "id": "AG_G9Gjf3DL4",
        "outputId": "9ed9340f-def7-4a15-99e5-8bbe3b3e860d"
      },
      "execution_count": 81,
      "outputs": [
        {
          "output_type": "stream",
          "name": "stdout",
          "text": [
            "Shape: (145, 636)\n",
            "Density: 0.091\n"
          ]
        }
      ]
    },
    {
      "cell_type": "code",
      "source": [
        "feature_names = vectorizer.get_feature_names_out()"
      ],
      "metadata": {
        "id": "xfBNMrFn32E6"
      },
      "execution_count": 84,
      "outputs": []
    },
    {
      "cell_type": "markdown",
      "source": [
        "# Clustering"
      ],
      "metadata": {
        "id": "-SJPc9kiVXx_"
      }
    },
    {
      "cell_type": "code",
      "source": [
        "from sklearn import metrics\n",
        "from sklearn.cluster import DBSCAN, HDBSCAN, KMeans, AgglomerativeClustering\n",
        "from sklearn.preprocessing import normalize\n",
        "from sklearn.metrics import silhouette_score\n",
        "from sklearn.decomposition import TruncatedSVD, PCA\n",
        "from sklearn.manifold import TSNE\n",
        "from umap import UMAP\n",
        "\n",
        "import matplotlib.pyplot as plt\n",
        "import seaborn as sns\n",
        "import plotly.express as px"
      ],
      "metadata": {
        "id": "qfeeY-e66u4K"
      },
      "execution_count": 85,
      "outputs": []
    },
    {
      "cell_type": "code",
      "source": [
        "labels = dict()\n",
        "def dbscan_clustering(vectors, eps=0.5, min_samples=5, metric='cosine'):\n",
        "    db = DBSCAN(eps=eps, min_samples=min_samples, metric=metric).fit(vectors)\n",
        "    labels_db = db.labels_\n",
        "\n",
        "    # Number of clusters in labels, ignoring noise if present.\n",
        "    n_clusters_ = len(set(labels_db)) - (1 if -1 in labels_db else 0)\n",
        "    n_noise_ = list(labels_db).count(-1)\n",
        "    print(f\"Estimated number of clusters: {n_clusters_}\")\n",
        "    print(f\"Estimated number of noise points: {n_noise_}\")\n",
        "    if n_clusters_ > 1:\n",
        "        print(f\"Silhouette score: {silhouette_score(vectors, labels_db, metric='cosine'):.3f}\")\n",
        "    return labels_db\n",
        "\n",
        "labels_db = dbscan_clustering(vectors, eps=0.5)\n",
        "labels['db'] = labels_db"
      ],
      "metadata": {
        "colab": {
          "base_uri": "https://localhost:8080/"
        },
        "id": "Wk95KEyTXCXe",
        "outputId": "50f0cd19-d4dc-4f93-a011-f67cbe6b413d"
      },
      "execution_count": 86,
      "outputs": [
        {
          "output_type": "stream",
          "name": "stdout",
          "text": [
            "Estimated number of clusters: 6\n",
            "Estimated number of noise points: 103\n",
            "Silhouette score: 0.084\n"
          ]
        }
      ]
    },
    {
      "cell_type": "code",
      "source": [
        "def hdbscan_clustering(vectors, min_cluster_size=8, min_samples=3, metric='cosine'):\n",
        "    hdb = HDBSCAN(min_cluster_size=min_cluster_size, min_samples=min_samples, metric=metric).fit(vectors)\n",
        "    labels_hdb = hdb.labels_\n",
        "\n",
        "    # Number of clusters in labels, ignoring noise if present.\n",
        "    n_clusters_ = len(set(labels_hdb)) - (1 if -1 in labels_hdb else 0)\n",
        "    n_noise_ = list(labels_hdb).count(-1)\n",
        "\n",
        "    print(f\"Estimated number of clusters: {n_clusters_}\")\n",
        "    print(f\"Estimated number of noise points: {n_noise_}\")\n",
        "    if n_clusters_ > 1:\n",
        "        print(f\"Silhouette score: {silhouette_score(vectors, labels_hdb, metric='cosine'):.3f}\")\n",
        "    return labels_hdb\n",
        "\n",
        "labels_hdb = hdbscan_clustering(vectors, min_cluster_size=9, min_samples=3)\n",
        "labels['hdb'] = labels_hdb"
      ],
      "metadata": {
        "colab": {
          "base_uri": "https://localhost:8080/"
        },
        "id": "c_MH7zRhNSh2",
        "outputId": "607b2bdf-c05c-42dc-bca8-d847c5aea396"
      },
      "execution_count": 95,
      "outputs": [
        {
          "output_type": "stream",
          "name": "stdout",
          "text": [
            "Estimated number of clusters: 3\n",
            "Estimated number of noise points: 59\n",
            "Silhouette score: 0.061\n"
          ]
        }
      ]
    },
    {
      "cell_type": "code",
      "source": [
        "min_n = 145\n",
        "for cl_size in range(2, 15):\n",
        "    for samples_size in range(2, 15):\n",
        "        n, labels_hdb = hdbscan_clustering(vectors, min_cluster_size=cl_size, min_samples=samples_size)\n",
        "        if n < min_n:\n",
        "            min_n = n\n",
        "            min_cl_size = cl_size\n",
        "            min_samples = samples_size\n",
        "print(min_n, min_cl_size, min_samples)"
      ],
      "metadata": {
        "colab": {
          "base_uri": "https://localhost:8080/"
        },
        "collapsed": true,
        "id": "jTyvjfS51k9O",
        "outputId": "9a78a976-4774-4b05-f8a3-a582623f4d6c"
      },
      "execution_count": 91,
      "outputs": [
        {
          "output_type": "stream",
          "name": "stdout",
          "text": [
            "37 11 2\n"
          ]
        }
      ]
    },
    {
      "cell_type": "code",
      "source": [
        "min_n = 145\n",
        "for eps in np.linspace(0.1, 1, 9, endpoint=False):\n",
        "    for samples_size in range(2, 15):\n",
        "        n_cl, n_noise, labels_db = dbscan_clustering(vectors, eps=eps, min_samples=samples_size)\n",
        "        if n_noise < min_n and n_cl > 1:\n",
        "            min_n = n_noise\n",
        "            min_eps = eps\n",
        "            min_samples = samples_size\n",
        "print(min_n, min_eps, min_samples)"
      ],
      "metadata": {
        "colab": {
          "base_uri": "https://localhost:8080/"
        },
        "id": "pYOe46b2BmDD",
        "outputId": "71e517ca-f95f-46e4-8499-d5128b2f1db2"
      },
      "execution_count": 116,
      "outputs": [
        {
          "output_type": "stream",
          "name": "stdout",
          "text": [
            "11 0.7000000000000001 2\n"
          ]
        }
      ]
    },
    {
      "cell_type": "code",
      "source": [
        "def hierarchical_clustering(vectors, n_clusters=2, metric='cosine'):\n",
        "    hc = AgglomerativeClustering(n_clusters=n_clusters, metric=metric, linkage='average')\n",
        "    labels_hc = hc.fit_predict(vectors.toarray())\n",
        "    if n_clusters > 1:\n",
        "        print(f\"Silhouette score: {silhouette_score(vectors, labels_hc, metric='cosine'):.3f}\")\n",
        "    return labels_hc\n",
        "\n",
        "labels_hc = hierarchical_clustering(vectors, n_clusters=3)\n",
        "labels['hc'] = labels_hc"
      ],
      "metadata": {
        "colab": {
          "base_uri": "https://localhost:8080/"
        },
        "id": "702GvkqWO3Kc",
        "outputId": "2fcda9b0-fb1e-4ec8-e8e5-f6d4b818ffce"
      },
      "execution_count": 53,
      "outputs": [
        {
          "output_type": "stream",
          "name": "stdout",
          "text": [
            "Silhouette score: 0.052\n"
          ]
        }
      ]
    },
    {
      "cell_type": "code",
      "source": [
        "def kmeans_clustering(vectors, n_clusters=2):\n",
        "    vectors_n = normalize(vectors)\n",
        "    labels_kmeans = KMeans(n_clusters=n_clusters, init='k-means++', random_state=42, n_init=10).fit_predict(vectors_n)\n",
        "    return labels_kmeans\n",
        "\n",
        "labels_kmeans = kmeans_clustering(vectors, n_clusters=2)\n",
        "labels['kmeans'] = labels_kmeans"
      ],
      "metadata": {
        "id": "JTF_sR221Cvc"
      },
      "execution_count": 54,
      "outputs": []
    },
    {
      "cell_type": "code",
      "source": [
        "def find_optimal_clusters(data, max_k):\n",
        "    iters = range(2, max_k+1, 2)\n",
        "\n",
        "    sse = []\n",
        "    for k in iters:\n",
        "        sse.append(KMeans(n_clusters=k, random_state=42).fit(data).inertia_)\n",
        "\n",
        "    f, ax = plt.subplots(1, 1)\n",
        "    ax.plot(iters, sse, marker='o')\n",
        "    ax.set_xlabel('Cluster Centers')\n",
        "    ax.set_xticks(iters)\n",
        "    ax.set_xticklabels(iters)\n",
        "    ax.set_ylabel('SSE')\n",
        "    ax.set_title('SSE by Cluster Center Plot')\n",
        "\n",
        "vectors_n = normalize(vectors)\n",
        "find_optimal_clusters(vectors_n, 40)"
      ],
      "metadata": {
        "colab": {
          "base_uri": "https://localhost:8080/",
          "height": 472
        },
        "collapsed": true,
        "id": "HVcrzuwHS24d",
        "outputId": "a46604ea-0e96-46cd-b602-64db6c21c88c"
      },
      "execution_count": 55,
      "outputs": [
        {
          "output_type": "display_data",
          "data": {
            "text/plain": [
              "<Figure size 640x480 with 1 Axes>"
            ],
            "image/png": "[encoded data removed]"
          },
          "metadata": {}
        }
      ]
    },
    {
      "cell_type": "markdown",
      "source": [
        "### Visualization functions"
      ],
      "metadata": {
        "id": "EZSiO8P6hI5E"
      }
    },
    {
      "cell_type": "code",
      "source": [
        "def visualize_data(vectors, dim=2, reduction_types=['svd', 'pca', 'tsne', 'umap']):\n",
        "\n",
        "    \"\"\"Visulization of data\"\"\"\n",
        "\n",
        "    if not isinstance(reduction_types, list):\n",
        "        raise TypeError(\"reduction_types must be a list\")\n",
        "\n",
        "    # Visualize the data\n",
        "    if 'svd' in reduction_types:\n",
        "        # Method 1: Using TruncatedSVD\n",
        "        svd = TruncatedSVD(n_components=dim, random_state=42)\n",
        "        vectors_svd = svd.fit_transform(vectors)\n",
        "\n",
        "        # Visualize the SVD results\n",
        "        if dim == 2:\n",
        "            plt.figure()\n",
        "            plt.scatter(vectors_svd[:, 0], vectors_svd[:, 1], alpha=0.5)\n",
        "            plt.title('Document Vector Space (SVD)')\n",
        "            plt.xlabel(f'Component 1 (explains {svd.explained_variance_ratio_[0]:.2%} of variance)')\n",
        "            plt.ylabel(f'Component 2 (explains {svd.explained_variance_ratio_[1]:.2%} of variance)')\n",
        "            plt.grid(alpha=0.3)\n",
        "            plt.tight_layout()\n",
        "            plt.show()\n",
        "        elif dim == 3:\n",
        "            fig = px.scatter_3d(vectors_svd, x=0, y=1, z=2)\n",
        "            fig.update_traces(marker_size=6)\n",
        "            fig.show()\n",
        "\n",
        "        print(f\"Total explained variance: {sum(svd.explained_variance_ratio_):.2%}\")\n",
        "\n",
        "    if 'pca' in reduction_types:\n",
        "        # Method 2: Using PCA\n",
        "        pca = PCA(n_components=dim)\n",
        "        vectors_pca = pca.fit_transform(normalize(vectors))\n",
        "\n",
        "        # Visualize the PCA results\n",
        "        if dim == 2:\n",
        "            plt.figure()\n",
        "            plt.scatter(vectors_pca[:, 0], vectors_pca[:, 1], alpha=0.5)\n",
        "            plt.title('Document Vector Space (PCA)')\n",
        "            plt.xlabel(f'Component 1 (explains {pca.explained_variance_ratio_[0]:.2%} of variance)')\n",
        "            plt.ylabel(f'Component 2 (explains {pca.explained_variance_ratio_[1]:.2%} of variance)')\n",
        "            plt.grid(alpha=0.3)\n",
        "            plt.tight_layout()\n",
        "            plt.show()\n",
        "        elif dim == 3:\n",
        "            fig = px.scatter_3d(vectors_pca, x=0, y=1, z=2)\n",
        "            fig.update_traces(marker_size=6)\n",
        "            fig.show()\n",
        "        print(f\"Total explained variance: {sum(pca.explained_variance_ratio_):.2%}\")\n",
        "\n",
        "    if 'tsne' in reduction_types:\n",
        "        # Method 3: t-SNE visualization\n",
        "        # First reduce to intermediate dimensions with SVD\n",
        "        svd_interim = TruncatedSVD(n_components=50, random_state=42)\n",
        "        vectors_50d = svd_interim.fit_transform(vectors)\n",
        "\n",
        "        # Then apply t-SNE\n",
        "        tsne = TSNE(n_components=dim, perplexity=30, random_state=42, max_iter=1000)\n",
        "        vectors_tsne = tsne.fit_transform(vectors_50d)\n",
        "\n",
        "        # Visualize t-SNE results\n",
        "        if dim == 2:\n",
        "            plt.figure()\n",
        "            plt.scatter(vectors_tsne[:, 0], vectors_tsne[:, 1], alpha=0.5)\n",
        "            plt.title('Document Vector Space (t-SNE)')\n",
        "            plt.xlabel('t-SNE Component 1')\n",
        "            plt.ylabel('t-SNE Component 2')\n",
        "            plt.grid(alpha=0.3)\n",
        "            plt.tight_layout()\n",
        "            plt.show()\n",
        "        elif dim == 3:\n",
        "            fig = px.scatter_3d(vectors_tsne, x=0, y=1, z=2)\n",
        "            fig.update_traces(marker_size=6)\n",
        "            fig.show()\n",
        "\n",
        "    if 'umap' in reduction_types:\n",
        "        # Method 4: UMAP visualization\n",
        "        vectors_umap = UMAP(n_components=dim, init='random').fit_transform(vectors)\n",
        "\n",
        "        # Visualize UMAP results\n",
        "        if dim == 2:\n",
        "            plt.figure()\n",
        "            plt.scatter(vectors_umap[:, 0], vectors_umap[:, 1], alpha=0.5)\n",
        "            plt.title('Document Vector Space (UMAP)')\n",
        "            plt.xlabel('UMAP Component 1')\n",
        "            plt.ylabel('UMAP Component 2')\n",
        "            plt.grid(alpha=0.3)\n",
        "            plt.tight_layout()\n",
        "            plt.show()\n",
        "        elif dim == 3:\n",
        "            fig = px.scatter_3d(vectors_umap, x=0, y=1, z=2)\n",
        "            fig.update_traces(marker_size=6)\n",
        "            fig.show()"
      ],
      "metadata": {
        "id": "fz3_p8OifKQf"
      },
      "execution_count": 56,
      "outputs": []
    },
    {
      "cell_type": "code",
      "source": [
        "visualize_data(vectors, 2, ['pca'])"
      ],
      "metadata": {
        "colab": {
          "base_uri": "https://localhost:8080/",
          "height": 505
        },
        "id": "P9bmbet5Sigo",
        "outputId": "4915a34c-3a20-4dc6-f2ca-9ffc4ff08fc2"
      },
      "execution_count": 60,
      "outputs": [
        {
          "output_type": "display_data",
          "data": {
            "text/plain": [
              "<Figure size 640x480 with 1 Axes>"
            ],
            "image/png": "[encoded data removed]"
          },
          "metadata": {}
        },
        {
          "output_type": "stream",
          "name": "stdout",
          "text": [
            "Total explained variance: 9.65%\n"
          ]
        }
      ]
    },
    {
      "cell_type": "code",
      "source": [
        "def visualize_clustering(vectors, cluster_labels, dim=2, reduction_types=['svd', 'pca', 'tsne', 'umap']):\n",
        "\n",
        "    \"\"\"Visulization of clustered data\"\"\"\n",
        "\n",
        "    if not isinstance(reduction_types, list):\n",
        "        raise TypeError(\"reduction_types must be a list\")\n",
        "\n",
        "    # Visualize the data\n",
        "    if 'svd' in reduction_types:\n",
        "        # Method 1: Using TruncatedSVD\n",
        "        svd = TruncatedSVD(n_components=dim, random_state=42)\n",
        "        vectors_svd = svd.fit_transform(vectors)\n",
        "\n",
        "        # Visualize the SVD results with cluster colors\n",
        "        if dim == 2:\n",
        "            fig, ax = plt.subplots()\n",
        "            for cluster_id in np.unique(cluster_labels):\n",
        "                mask = (cluster_labels == cluster_id)\n",
        "                plt.scatter(\n",
        "                    vectors_svd[mask, 0],\n",
        "                    vectors_svd[mask, 1],\n",
        "                    label=f'Cluster {cluster_id}',\n",
        "                    alpha=0.7,\n",
        "                    s=50,\n",
        "                    edgecolors='w'\n",
        "                )\n",
        "            plt.title('2D Cluster Visualization with SVD reduction')\n",
        "            plt.xlabel(f'Component 1 (explains {svd.explained_variance_ratio_[0]:.2%} of variance)')\n",
        "            plt.ylabel(f'Component 2 (explains {svd.explained_variance_ratio_[1]:.2%} of variance)')\n",
        "            plt.grid(alpha=0.3)\n",
        "            plt.legend(title=\"Clusters\", loc='center left', bbox_to_anchor=(1, 0.5))\n",
        "            plt.tight_layout()\n",
        "            plt.show()\n",
        "        elif dim == 3:\n",
        "            fig = px.scatter_3d(\n",
        "                vectors_svd,\n",
        "                x=0, y=1, z=2,\n",
        "                color=cluster_labels,\n",
        "                labels={'color': 'Cluster'},\n",
        "                title='3D Cluster Visualization with SVD reduction',\n",
        "            )\n",
        "\n",
        "            fig.update_traces(marker_size=6)\n",
        "            fig.update_layout(dict(updatemenus=[\n",
        "                        dict(\n",
        "                            type = \"buttons\",\n",
        "                            direction = \"left\",\n",
        "                            buttons=list([\n",
        "                                dict(\n",
        "                                    args=[\"visible\", \"legendonly\"],\n",
        "                                    label=\"Deselect All\",\n",
        "                                    method=\"restyle\"\n",
        "                                ),\n",
        "                                dict(\n",
        "                                    args=[\"visible\", True],\n",
        "                                    label=\"Select All\",\n",
        "                                    method=\"restyle\"\n",
        "                                )\n",
        "                            ]),\n",
        "                            pad={\"r\": 10, \"t\": 10},\n",
        "                            showactive=False,\n",
        "                            x=1,\n",
        "                            xanchor=\"right\",\n",
        "                            y=1.1,\n",
        "                            yanchor=\"top\"\n",
        "                        ),\n",
        "                    ]\n",
        "              ))\n",
        "            fig.show()\n",
        "        print(f\"Total explained variance: {sum(svd.explained_variance_ratio_):.2%}\")\n",
        "\n",
        "    if 'pca' in reduction_types:\n",
        "        # Method 2: Using PCA\n",
        "        pca = PCA(n_components=dim)\n",
        "        vectors_pca = pca.fit_transform(vectors)\n",
        "\n",
        "        # Visualize the PCA results with cluster colors\n",
        "        if dim == 2:\n",
        "            fig, ax = plt.subplots()\n",
        "            for cluster_id in np.unique(cluster_labels):\n",
        "                mask = (cluster_labels == cluster_id)\n",
        "                plt.scatter(\n",
        "                    vectors_pca[mask, 0],\n",
        "                    vectors_pca[mask, 1],\n",
        "                    label=f'Cluster {cluster_id}',\n",
        "                    alpha=0.7,\n",
        "                    s=50,\n",
        "                    edgecolors='w'\n",
        "                )\n",
        "            plt.title('2D Cluster Visualization with PCA reduction')\n",
        "            plt.xlabel(f'Component 1 (explains {pca.explained_variance_ratio_[0]:.2%} of variance)')\n",
        "            plt.ylabel(f'Component 2 (explains {pca.explained_variance_ratio_[1]:.2%} of variance)')\n",
        "            plt.grid(alpha=0.3)\n",
        "            plt.legend(title=\"Clusters\", loc='center left', bbox_to_anchor=(1, 0.5))\n",
        "            plt.tight_layout()\n",
        "            plt.show()\n",
        "        elif dim == 3:\n",
        "            fig = px.scatter_3d(\n",
        "                vectors_pca,\n",
        "                x=0, y=1, z=2,\n",
        "                color=cluster_labels,\n",
        "                labels={'color': 'Cluster'},\n",
        "                title='3D Cluster Visualization with PCA reduction'\n",
        "            )\n",
        "\n",
        "            fig.update_traces(marker_size=6)\n",
        "            fig.show()\n",
        "\n",
        "        print(f\"Total explained variance: {sum(pca.explained_variance_ratio_):.2%}\")\n",
        "\n",
        "    if 'tsne' in reduction_types:\n",
        "        # Method 3: t-SNE visualization with clusters\n",
        "        # First reduce to intermediate dimensions with SVD\n",
        "        svd_interim = TruncatedSVD(n_components=50, random_state=42)\n",
        "        vectors_50d = svd_interim.fit_transform(vectors)\n",
        "\n",
        "        # Then apply t-SNE\n",
        "        tsne = TSNE(n_components=dim, perplexity=30, random_state=42, max_iter=1000)\n",
        "        vectors_tsne = tsne.fit_transform(vectors_50d)\n",
        "\n",
        "        # Visualize t-SNE results with cluster colors\n",
        "        if dim == 2:\n",
        "            fig, ax = plt.subplots()\n",
        "            for cluster_id in np.unique(cluster_labels):\n",
        "                mask = (cluster_labels == cluster_id)\n",
        "                plt.scatter(\n",
        "                    vectors_tsne[mask, 0],\n",
        "                    vectors_tsne[mask, 1],\n",
        "                    label=f'Cluster {cluster_id}',\n",
        "                    alpha=0.7,\n",
        "                    s=50,\n",
        "                    edgecolors='w'\n",
        "                )\n",
        "            plt.title('2D Cluster Visualization with t-SNE reduction')\n",
        "            plt.xlabel('t-SNE Component 1')\n",
        "            plt.ylabel('t-SNE Component 2')\n",
        "            plt.grid(alpha=0.3)\n",
        "            plt.legend(title=\"Clusters\", loc='center left', bbox_to_anchor=(1, 0.5))\n",
        "            plt.tight_layout()\n",
        "            plt.show()\n",
        "        elif dim == 3:\n",
        "            fig = px.scatter_3d(\n",
        "                vectors_tsne,\n",
        "                x=0, y=1, z=2,\n",
        "                color=cluster_labels,\n",
        "                labels={'color': 'Cluster'},\n",
        "                title='3D Cluster Visualization with t-SNE reduction'\n",
        "            )\n",
        "\n",
        "            fig.update_traces(marker_size=6)\n",
        "            fig.show()\n",
        "\n",
        "\n",
        "    if 'umap' in reduction_types:\n",
        "        # Method 4: UMAP visualization\n",
        "        vectors_umap = UMAP(n_components=dim, init='random').fit_transform(vectors)\n",
        "\n",
        "        # Visualize UMAP results\n",
        "        if dim == 2:\n",
        "            fig, ax = plt.subplots()\n",
        "            for cluster_id in np.unique(cluster_labels):\n",
        "                mask = (cluster_labels == cluster_id)\n",
        "                plt.scatter(\n",
        "                    vectors_umap[mask, 0],\n",
        "                    vectors_umap[mask, 1],\n",
        "                    label=f'Cluster {cluster_id}',\n",
        "                    alpha=0.7,\n",
        "                    s=50,\n",
        "                    edgecolors='w'\n",
        "                )\n",
        "            plt.title('3D Cluster Visualization with UMAP reduction')\n",
        "            plt.xlabel('UMAP Component 1')\n",
        "            plt.ylabel('UMAP Component 2')\n",
        "            plt.grid(alpha=0.3)\n",
        "            plt.legend(title=\"Clusters\", loc='center left', bbox_to_anchor=(1, 0.5))\n",
        "            plt.tight_layout()\n",
        "            plt.show()\n",
        "        elif dim == 3:\n",
        "            fig = px.scatter_3d(\n",
        "                vectors_umap,\n",
        "                x=0, y=1, z=2,\n",
        "                color=cluster_labels,\n",
        "                labels={'color': 'Cluster'},\n",
        "                title='3D Cluster Visualization with UMAP reduction'\n",
        "            )\n",
        "\n",
        "            fig.update_traces(marker_size=6)\n",
        "            fig.show()"
      ],
      "metadata": {
        "id": "APYHFMYjgrYc"
      },
      "execution_count": 98,
      "outputs": []
    },
    {
      "cell_type": "markdown",
      "source": [
        "### Visualization"
      ],
      "metadata": {
        "id": "yzKSbMlN1XBr"
      }
    },
    {
      "cell_type": "code",
      "source": [
        "visualize_clustering(vectors, np.array(list(map(str, labels['hdb']))), 3, ['svd'])"
      ],
      "metadata": {
        "colab": {
          "base_uri": "https://localhost:8080/",
          "height": 560
        },
        "id": "c9PBTifIARMG",
        "outputId": "35be49a4-0a28-42c9-b562-0d22483b1c9a"
      },
      "execution_count": 99,
      "outputs": [
        {
          "output_type": "display_data",
          "data": {
            "text/html": [
              "<html>\n",
              "<head><meta charset=\"utf-8\" /></head>\n",
              "<body>\n",
              "    <div>            <script src=\"https://cdnjs.cloudflare.com/ajax/libs/mathjax/2.7.5/MathJax.js?config=TeX-AMS-MML_SVG\"></script><script type=\"text/javascript\">if (window.MathJax && window.MathJax.Hub && window.MathJax.Hub.Config) {window.MathJax.Hub.Config({SVG: {font: \"STIX-Web\"}});}</script>                <script type=\"text/javascript\">window.PlotlyConfig = {MathJaxConfig: 'local'};</script>\n",
              "        <script charset=\"utf-8\" src=\"https://cdn.plot.ly/plotly-2.35.2.min.js\"></script>                <div id=\"3a5d2e88-ac0e-4c33-8154-a2eb6a238202\" class=\"plotly-graph-div\" style=\"height:525px; width:100%;\"></div>            <script type=\"text/javascript\">                                    window.PLOTLYENV=window.PLOTLYENV || {};                                    if (document.getElementById(\"3a5d2e88-ac0e-4c33-8154-a2eb6a238202\")) {                    Plotly.newPlot(                        \"3a5d2e88-ac0e-4c33-8154-a2eb6a238202\",                        [{\"hovertemplate\":\"Cluster=0\\u003cbr\\u003e0=%{x}\\u003cbr\\u003e1=%{y}\\u003cbr\\u003e2=%{z}\\u003cextra\\u003e\\u003c\\u002fextra\\u003e\",\"legendgroup\":\"0\",\"marker\":{\"color\":\"#636efa\",\"symbol\":\"circle\",\"size\":6},\"mode\":\"markers\",\"name\":\"0\",\"scene\":\"scene\",\"showlegend\":true,\"x\":[0.4045751338752397,0.2315377158577574,0.38744557747912445,0.3944457888469308,0.2943602105850802,0.333892332867776,0.2820652083767021,0.17334009382896767,0.2908029371321338,0.31744199771385345,0.33075002919775204,0.35644441264435933,0.261639369636792,0.23172752087711854,0.17686126078297223,0.2875661511078168,0.21426585517530822,0.18078101121717258,0.2899455774591497,0.41174890954086396,0.1855676915535248,0.39194362686297024,0.37248090596515765,0.3929632379795904],\"y\":[-0.22702494168871268,-0.15125241202239206,-0.2235336754212139,-0.22678409044641673,-0.07579989588598021,-0.16202001829463,-0.14071222638652847,-0.11961151277443094,-0.1742643662013117,-0.1537815451910487,-0.1644644686151961,-0.18559288902647397,-0.17321154844098516,-0.14113010501888418,-0.10905221106890292,-0.16746607122741658,-0.06687400348974112,-0.10991867532505281,-0.20460243848045093,-0.18609960721903127,-0.145264374867162,-0.20775043159423576,-0.20576213880078287,-0.19338175803932214],\"z\":[-0.14294735813064705,-0.08088365910138641,-0.1589688509548701,-0.1598552716926223,0.027898864166868036,0.007296930576436739,-0.1181863291606986,-0.17424268173499818,0.05134042896147848,0.22528286006988016,0.2629182664556492,0.26216096489458124,-0.14186950434120163,-0.08903085130890982,-0.1391817266319096,-0.16342000840915322,-0.13275401966156208,-0.17052959245611451,-0.12068070455495833,0.021805509090912216,-0.13589552984869657,0.21934601999247572,0.2300940372283979,0.21112646703317176],\"type\":\"scatter3d\"},{\"hovertemplate\":\"Cluster=-1\\u003cbr\\u003e0=%{x}\\u003cbr\\u003e1=%{y}\\u003cbr\\u003e2=%{z}\\u003cextra\\u003e\\u003c\\u002fextra\\u003e\",\"legendgroup\":\"-1\",\"marker\":{\"color\":\"#EF553B\",\"symbol\":\"circle\",\"size\":6},\"mode\":\"markers\",\"name\":\"-1\",\"scene\":\"scene\",\"showlegend\":true,\"x\":[0.33799570106174553,0.35996746977046046,0.40920130402308624,0.356869968117439,0.3543000854318954,0.35105558057454767,0.3437270233432242,0.3991473155076296,0.3244182828490673,0.30586308013471997,0.30144404855207657,0.2776430260194446,0.41720431940978997,0.32603566178818855,0.31453762324663,0.316295384454904,0.2955878660164666,0.2481415800794551,0.27379146147997535,0.2268721281065105,0.38859098735692943,0.2807992033526005,0.41258217952153303,0.40008550691273226,0.4113025155165744,0.43399110604343244,0.27217908702611154,0.36511970061888854,0.48608268952381334,0.2760093794523461,0.26933017275509624,0.2117773032775935,0.42065952059341577,0.3173350774569497,0.4732843627659076,0.36907437333126764,0.38290129303016107,0.3554895710838629,0.2808783482000186,0.4238273354368949,0.3417904949161134,0.3116158097008717,0.24395870174203518,0.19705045510094218,0.24591498277059062,0.3116483655675059,0.21150712904491833,0.29264431213032466,0.17928434297180187,0.24595741670343357,0.34348299445520003,0.2579356592798357,0.32174955610765243,0.38499143429645577,0.3859355545379277,0.36547144295891787,0.38691110339423385,0.3151917121019174,0.26305443448484794],\"y\":[-0.07442571327777503,-0.2077069070800984,-0.15951498277119536,-0.18363072158974295,0.033123111420543,-0.1368232744571104,0.06917956280393936,-0.06517392066215665,-0.0627468934295514,0.005037779384092077,-0.14334741902289241,-0.15300896366238056,0.06325125062956696,-0.19948397100276363,-0.16525665775118736,-0.17760857610275424,-0.15468242061896262,-0.08679419990442348,-0.08210441322613425,-0.047544331278459154,-0.20236874519485035,-0.13897678319153192,-0.24552505387629195,-0.22752219083113476,-0.2322333018930643,-0.11676450974622489,0.022465970745850633,-0.1858956137930194,-0.12185739786942382,-0.14642277074972113,0.028942854014461252,-0.09305051199769881,-0.1307671882590517,-0.16679864049882506,-0.13690060745715854,-0.15737540276882367,-0.17536662925984456,-0.16117857125522075,-0.17217427060963625,-0.10623624771973979,-0.08018331416711415,-0.15584780193534412,-0.0790761719391485,-0.08427579083237505,-0.11001376061958185,0.11191619987169732,-0.06984037201892425,-0.04858322092108836,-0.050066651425956954,-0.0619595841620311,-0.07676603023323958,-0.07570506709866316,-0.07447973897233587,0.003357348348157808,-0.07118830698948761,0.03683756572950273,-0.0014220402255497359,-0.1852834388773281,-0.16526125718753146],\"z\":[0.11453578491528531,0.052232456175028176,-0.07205822092988934,0.22176634758140754,-0.02901962729404694,-0.05800636859047898,-0.15815241812086334,-0.10546823840297516,-0.08174913163566705,-0.1619354488362488,0.24790170450946805,0.310603123337098,-0.29713313902885147,0.16280446018471442,0.3336506893948478,0.4034225916223951,0.2745153206297427,0.05089640551358544,-0.14278055017720762,0.12725504784570857,0.04216022692368589,-0.030903101352227742,-0.01057568702960507,-0.023532669107167763,-0.029085170564020234,-0.07110481966397292,-0.13446663779292192,0.3028538711285339,-0.23977201243295257,0.19167504713483582,-0.2590889009694075,0.04164490072343709,-0.16369070333074837,-0.0064258794931523495,-0.05013452313099445,0.021960781205352085,-0.021771945075529497,-0.009667254401634084,0.1973587359648907,-0.14666988411477552,-0.12461538679820015,-0.03098964560149816,0.0018804433056913358,-0.050604630341754823,-0.04660855637106924,-0.19496243836007235,-0.0538636180470911,-0.09120076678312036,0.001851093670257957,-0.007316535327277505,-0.16579188933031797,-0.10722046468047677,-0.03682145308171139,-0.24843309067690292,-0.20731552569736866,-0.2813459953746202,-0.2846441875596319,0.18985096269681564,0.18456413823798987],\"type\":\"scatter3d\"},{\"hovertemplate\":\"Cluster=1\\u003cbr\\u003e0=%{x}\\u003cbr\\u003e1=%{y}\\u003cbr\\u003e2=%{z}\\u003cextra\\u003e\\u003c\\u002fextra\\u003e\",\"legendgroup\":\"1\",\"marker\":{\"color\":\"#00cc96\",\"symbol\":\"circle\",\"size\":6},\"mode\":\"markers\",\"name\":\"1\",\"scene\":\"scene\",\"showlegend\":true,\"x\":[0.3462444203449577,0.4125813727949916,0.3803835674094841,0.3202747276154689,0.3202747276154689,0.2805673150180917,0.2995026585462033,0.46544911519017246,0.3412268529881847,0.2555482352407592,0.2647961767790302,0.285545373810801,0.2954157701020607,0.34861964825972935,0.29275410589154843,0.29865000423176385,0.33352147348339,0.3287336206115142,0.3287336206115142,0.424595622729419,0.4136285153340074,0.37233369285075196,0.35580186426091565,0.37643462011032797,0.31980063011709947,0.33111850766384543,0.36464968054450886,0.3685301781750194,0.44755378230391596,0.3899989989272571,0.38928681138715376,0.38252009392016806,0.3771365245458653,0.34432678869927746,0.27817807020181945,0.2864421568815095,0.3671158504048155,0.2993481647130141,0.2956086234399554,0.34689341005297397,0.45011495098916043,0.4147081190278565,0.2674870071546793,0.2815659653026759,0.2570480323286737,0.3852654397447489,0.44704194343148707,0.398674274676308,0.40939093807949734,0.42195023842876267,0.38906926742707326,0.3815962693603539,0.40171868181304193],\"y\":[-0.1705703503579579,-0.07743827445581866,0.44863537133595394,0.096605707564195,0.096605707564195,-0.1410547176835898,-0.17864790657098487,0.6543647750508648,0.5282191298020364,0.03515629232867703,0.036585352538862644,-0.013454711907106724,-0.19820273681016415,0.44248750029560047,-0.18691029315190674,-0.20653778651439286,0.1274259272968558,0.12453123567623235,0.12453123567623235,0.6371502829046707,0.5527823751891483,0.02815489614292282,0.040170078187610286,0.44282409284321506,-0.15226917053803612,0.4674185747738759,-0.11142520090001111,-0.0980646612024442,0.4436072771320081,-0.19900219840897,-0.1835965215493547,0.5352605182284373,0.4833708429168875,-0.1509075883836941,-0.09767184122333215,-0.10627701085616936,0.39329707228759503,-0.13646852151170455,-0.13301937632018895,0.4089279167639951,0.1133266425751738,0.509539706736086,0.4422307236484402,-0.07411250460263628,-0.07115514848463012,-0.024465379574760394,0.534201591510405,0.0419432446090442,0.0204198061965572,0.5802819079046004,0.5937316764928712,0.16620387128074518,0.15863393033043682],\"z\":[0.2096566474504035,0.07081775272868207,0.1371435081410345,-0.2643509608370698,-0.2643509608370698,0.12267554710861582,0.31409878772050664,0.09027002429928994,-0.017148811023185325,-0.1207566252856393,-0.12438971062959076,-0.17457199055383238,0.275976087310291,0.34526961271131706,0.27578987677809097,0.24589288355333214,-0.23777037558013517,-0.23520448388277967,-0.23520448388277967,0.06533968606071662,0.03288660811841638,-0.17765121380343493,-0.1945295514542924,0.3903186855163002,0.0369672867613568,0.29791247711792745,0.26527797038523726,0.24298821061761564,0.3992708673354449,0.4219342838243804,0.41744930998486474,0.21843366345692333,0.23110394983336643,0.13853745138013593,0.10351836140577325,0.08473266000305041,0.3354052873660028,0.21774229251196445,0.21530750260841006,0.1888122151700272,-0.3072143243993709,0.23569589372019156,0.12729146018638418,-0.08187320645311594,-0.07381885793400098,-0.2586910896339502,-0.10153797533589141,-0.30088546701057045,-0.3987682219040497,-0.005627434994898761,-0.07724492108746488,-0.4331626993044569,-0.397262401583611],\"type\":\"scatter3d\"},{\"hovertemplate\":\"Cluster=2\\u003cbr\\u003e0=%{x}\\u003cbr\\u003e1=%{y}\\u003cbr\\u003e2=%{z}\\u003cextra\\u003e\\u003c\\u002fextra\\u003e\",\"legendgroup\":\"2\",\"marker\":{\"color\":\"#ab63fa\",\"symbol\":\"circle\",\"size\":6},\"mode\":\"markers\",\"name\":\"2\",\"scene\":\"scene\",\"showlegend\":true,\"x\":[0.18532800890912304,0.29355154630092783,0.1722075943114499,0.1784072227049972,0.15285800456475887,0.3618887332683872,0.21548419189125603,0.3343165902674358,0.3155777700331459],\"y\":[-0.01162882758115456,0.4144368492993999,-0.0027398354116455097,0.009909863135362388,-0.013042218965694132,0.01564218272148986,-0.0029059194449936273,0.054146767230589594,0.10253908762712265],\"z\":[-0.07460730943182962,0.07484287073975557,-0.07702296742529971,-0.07079873321528114,-0.06954095517300914,-0.23749750089723434,-0.1382576302720771,-0.29066268731032624,-0.3477546108345615],\"type\":\"scatter3d\"}],                        {\"template\":{\"data\":{\"histogram2dcontour\":[{\"type\":\"histogram2dcontour\",\"colorbar\":{\"outlinewidth\":0,\"ticks\":\"\"},\"colorscale\":[[0.0,\"#0d0887\"],[0.1111111111111111,\"#46039f\"],[0.2222222222222222,\"#7201a8\"],[0.3333333333333333,\"#9c179e\"],[0.4444444444444444,\"#bd3786\"],[0.5555555555555556,\"#d8576b\"],[0.6666666666666666,\"#ed7953\"],[0.7777777777777778,\"#fb9f3a\"],[0.8888888888888888,\"#fdca26\"],[1.0,\"#f0f921\"]]}],\"choropleth\":[{\"type\":\"choropleth\",\"colorbar\":{\"outlinewidth\":0,\"ticks\":\"\"}}],\"histogram2d\":[{\"type\":\"histogram2d\",\"colorbar\":{\"outlinewidth\":0,\"ticks\":\"\"},\"colorscale\":[[0.0,\"#0d0887\"],[0.1111111111111111,\"#46039f\"],[0.2222222222222222,\"#7201a8\"],[0.3333333333333333,\"#9c179e\"],[0.4444444444444444,\"#bd3786\"],[0.5555555555555556,\"#d8576b\"],[0.6666666666666666,\"#ed7953\"],[0.7777777777777778,\"#fb9f3a\"],[0.8888888888888888,\"#fdca26\"],[1.0,\"#f0f921\"]]}],\"heatmap\":[{\"type\":\"heatmap\",\"colorbar\":{\"outlinewidth\":0,\"ticks\":\"\"},\"colorscale\":[[0.0,\"#0d0887\"],[0.1111111111111111,\"#46039f\"],[0.2222222222222222,\"#7201a8\"],[0.3333333333333333,\"#9c179e\"],[0.4444444444444444,\"#bd3786\"],[0.5555555555555556,\"#d8576b\"],[0.6666666666666666,\"#ed7953\"],[0.7777777777777778,\"#fb9f3a\"],[0.8888888888888888,\"#fdca26\"],[1.0,\"#f0f921\"]]}],\"heatmapgl\":[{\"type\":\"heatmapgl\",\"colorbar\":{\"outlinewidth\":0,\"ticks\":\"\"},\"colorscale\":[[0.0,\"#0d0887\"],[0.1111111111111111,\"#46039f\"],[0.2222222222222222,\"#7201a8\"],[0.3333333333333333,\"#9c179e\"],[0.4444444444444444,\"#bd3786\"],[0.5555555555555556,\"#d8576b\"],[0.6666666666666666,\"#ed7953\"],[0.7777777777777778,\"#fb9f3a\"],[0.8888888888888888,\"#fdca26\"],[1.0,\"#f0f921\"]]}],\"contourcarpet\":[{\"type\":\"contourcarpet\",\"colorbar\":{\"outlinewidth\":0,\"ticks\":\"\"}}],\"contour\":[{\"type\":\"contour\",\"colorbar\":{\"outlinewidth\":0,\"ticks\":\"\"},\"colorscale\":[[0.0,\"#0d0887\"],[0.1111111111111111,\"#46039f\"],[0.2222222222222222,\"#7201a8\"],[0.3333333333333333,\"#9c179e\"],[0.4444444444444444,\"#bd3786\"],[0.5555555555555556,\"#d8576b\"],[0.6666666666666666,\"#ed7953\"],[0.7777777777777778,\"#fb9f3a\"],[0.8888888888888888,\"#fdca26\"],[1.0,\"#f0f921\"]]}],\"surface\":[{\"type\":\"surface\",\"colorbar\":{\"outlinewidth\":0,\"ticks\":\"\"},\"colorscale\":[[0.0,\"#0d0887\"],[0.1111111111111111,\"#46039f\"],[0.2222222222222222,\"#7201a8\"],[0.3333333333333333,\"#9c179e\"],[0.4444444444444444,\"#bd3786\"],[0.5555555555555556,\"#d8576b\"],[0.6666666666666666,\"#ed7953\"],[0.7777777777777778,\"#fb9f3a\"],[0.8888888888888888,\"#fdca26\"],[1.0,\"#f0f921\"]]}],\"mesh3d\":[{\"type\":\"mesh3d\",\"colorbar\":{\"outlinewidth\":0,\"ticks\":\"\"}}],\"scatter\":[{\"fillpattern\":{\"fillmode\":\"overlay\",\"size\":10,\"solidity\":0.2},\"type\":\"scatter\"}],\"parcoords\":[{\"type\":\"parcoords\",\"line\":{\"colorbar\":{\"outlinewidth\":0,\"ticks\":\"\"}}}],\"scatterpolargl\":[{\"type\":\"scatterpolargl\",\"marker\":{\"colorbar\":{\"outlinewidth\":0,\"ticks\":\"\"}}}],\"bar\":[{\"error_x\":{\"color\":\"#2a3f5f\"},\"error_y\":{\"color\":\"#2a3f5f\"},\"marker\":{\"line\":{\"color\":\"#E5ECF6\",\"width\":0.5},\"pattern\":{\"fillmode\":\"overlay\",\"size\":10,\"solidity\":0.2}},\"type\":\"bar\"}],\"scattergeo\":[{\"type\":\"scattergeo\",\"marker\":{\"colorbar\":{\"outlinewidth\":0,\"ticks\":\"\"}}}],\"scatterpolar\":[{\"type\":\"scatterpolar\",\"marker\":{\"colorbar\":{\"outlinewidth\":0,\"ticks\":\"\"}}}],\"histogram\":[{\"marker\":{\"pattern\":{\"fillmode\":\"overlay\",\"size\":10,\"solidity\":0.2}},\"type\":\"histogram\"}],\"scattergl\":[{\"type\":\"scattergl\",\"marker\":{\"colorbar\":{\"outlinewidth\":0,\"ticks\":\"\"}}}],\"scatter3d\":[{\"type\":\"scatter3d\",\"line\":{\"colorbar\":{\"outlinewidth\":0,\"ticks\":\"\"}},\"marker\":{\"colorbar\":{\"outlinewidth\":0,\"ticks\":\"\"}}}],\"scattermapbox\":[{\"type\":\"scattermapbox\",\"marker\":{\"colorbar\":{\"outlinewidth\":0,\"ticks\":\"\"}}}],\"scatterternary\":[{\"type\":\"scatterternary\",\"marker\":{\"colorbar\":{\"outlinewidth\":0,\"ticks\":\"\"}}}],\"scattercarpet\":[{\"type\":\"scattercarpet\",\"marker\":{\"colorbar\":{\"outlinewidth\":0,\"ticks\":\"\"}}}],\"carpet\":[{\"aaxis\":{\"endlinecolor\":\"#2a3f5f\",\"gridcolor\":\"white\",\"linecolor\":\"white\",\"minorgridcolor\":\"white\",\"startlinecolor\":\"#2a3f5f\"},\"baxis\":{\"endlinecolor\":\"#2a3f5f\",\"gridcolor\":\"white\",\"linecolor\":\"white\",\"minorgridcolor\":\"white\",\"startlinecolor\":\"#2a3f5f\"},\"type\":\"carpet\"}],\"table\":[{\"cells\":{\"fill\":{\"color\":\"#EBF0F8\"},\"line\":{\"color\":\"white\"}},\"header\":{\"fill\":{\"color\":\"#C8D4E3\"},\"line\":{\"color\":\"white\"}},\"type\":\"table\"}],\"barpolar\":[{\"marker\":{\"line\":{\"color\":\"#E5ECF6\",\"width\":0.5},\"pattern\":{\"fillmode\":\"overlay\",\"size\":10,\"solidity\":0.2}},\"type\":\"barpolar\"}],\"pie\":[{\"automargin\":true,\"type\":\"pie\"}]},\"layout\":{\"autotypenumbers\":\"strict\",\"colorway\":[\"#636efa\",\"#EF553B\",\"#00cc96\",\"#ab63fa\",\"#FFA15A\",\"#19d3f3\",\"#FF6692\",\"#B6E880\",\"#FF97FF\",\"#FECB52\"],\"font\":{\"color\":\"#2a3f5f\"},\"hovermode\":\"closest\",\"hoverlabel\":{\"align\":\"left\"},\"paper_bgcolor\":\"white\",\"plot_bgcolor\":\"#E5ECF6\",\"polar\":{\"bgcolor\":\"#E5ECF6\",\"angularaxis\":{\"gridcolor\":\"white\",\"linecolor\":\"white\",\"ticks\":\"\"},\"radialaxis\":{\"gridcolor\":\"white\",\"linecolor\":\"white\",\"ticks\":\"\"}},\"ternary\":{\"bgcolor\":\"#E5ECF6\",\"aaxis\":{\"gridcolor\":\"white\",\"linecolor\":\"white\",\"ticks\":\"\"},\"baxis\":{\"gridcolor\":\"white\",\"linecolor\":\"white\",\"ticks\":\"\"},\"caxis\":{\"gridcolor\":\"white\",\"linecolor\":\"white\",\"ticks\":\"\"}},\"coloraxis\":{\"colorbar\":{\"outlinewidth\":0,\"ticks\":\"\"}},\"colorscale\":{\"sequential\":[[0.0,\"#0d0887\"],[0.1111111111111111,\"#46039f\"],[0.2222222222222222,\"#7201a8\"],[0.3333333333333333,\"#9c179e\"],[0.4444444444444444,\"#bd3786\"],[0.5555555555555556,\"#d8576b\"],[0.6666666666666666,\"#ed7953\"],[0.7777777777777778,\"#fb9f3a\"],[0.8888888888888888,\"#fdca26\"],[1.0,\"#f0f921\"]],\"sequentialminus\":[[0.0,\"#0d0887\"],[0.1111111111111111,\"#46039f\"],[0.2222222222222222,\"#7201a8\"],[0.3333333333333333,\"#9c179e\"],[0.4444444444444444,\"#bd3786\"],[0.5555555555555556,\"#d8576b\"],[0.6666666666666666,\"#ed7953\"],[0.7777777777777778,\"#fb9f3a\"],[0.8888888888888888,\"#fdca26\"],[1.0,\"#f0f921\"]],\"diverging\":[[0,\"#8e0152\"],[0.1,\"#c51b7d\"],[0.2,\"#de77ae\"],[0.3,\"#f1b6da\"],[0.4,\"#fde0ef\"],[0.5,\"#f7f7f7\"],[0.6,\"#e6f5d0\"],[0.7,\"#b8e186\"],[0.8,\"#7fbc41\"],[0.9,\"#4d9221\"],[1,\"#276419\"]]},\"xaxis\":{\"gridcolor\":\"white\",\"linecolor\":\"white\",\"ticks\":\"\",\"title\":{\"standoff\":15},\"zerolinecolor\":\"white\",\"automargin\":true,\"zerolinewidth\":2},\"yaxis\":{\"gridcolor\":\"white\",\"linecolor\":\"white\",\"ticks\":\"\",\"title\":{\"standoff\":15},\"zerolinecolor\":\"white\",\"automargin\":true,\"zerolinewidth\":2},\"scene\":{\"xaxis\":{\"backgroundcolor\":\"#E5ECF6\",\"gridcolor\":\"white\",\"linecolor\":\"white\",\"showbackground\":true,\"ticks\":\"\",\"zerolinecolor\":\"white\",\"gridwidth\":2},\"yaxis\":{\"backgroundcolor\":\"#E5ECF6\",\"gridcolor\":\"white\",\"linecolor\":\"white\",\"showbackground\":true,\"ticks\":\"\",\"zerolinecolor\":\"white\",\"gridwidth\":2},\"zaxis\":{\"backgroundcolor\":\"#E5ECF6\",\"gridcolor\":\"white\",\"linecolor\":\"white\",\"showbackground\":true,\"ticks\":\"\",\"zerolinecolor\":\"white\",\"gridwidth\":2}},\"shapedefaults\":{\"line\":{\"color\":\"#2a3f5f\"}},\"annotationdefaults\":{\"arrowcolor\":\"#2a3f5f\",\"arrowhead\":0,\"arrowwidth\":1},\"geo\":{\"bgcolor\":\"white\",\"landcolor\":\"#E5ECF6\",\"subunitcolor\":\"white\",\"showland\":true,\"showlakes\":true,\"lakecolor\":\"white\"},\"title\":{\"x\":0.05},\"mapbox\":{\"style\":\"light\"}}},\"scene\":{\"domain\":{\"x\":[0.0,1.0],\"y\":[0.0,1.0]},\"xaxis\":{\"title\":{\"text\":\"0\"}},\"yaxis\":{\"title\":{\"text\":\"1\"}},\"zaxis\":{\"title\":{\"text\":\"2\"}}},\"legend\":{\"title\":{\"text\":\"Cluster\"},\"tracegroupgap\":0},\"title\":{\"text\":\"3D Cluster Visualization with SVD reduction\"},\"updatemenus\":[{\"buttons\":[{\"args\":[\"visible\",\"legendonly\"],\"label\":\"Deselect All\",\"method\":\"restyle\"},{\"args\":[\"visible\",true],\"label\":\"Select All\",\"method\":\"restyle\"}],\"direction\":\"left\",\"pad\":{\"r\":10,\"t\":10},\"showactive\":false,\"type\":\"buttons\",\"x\":1,\"xanchor\":\"right\",\"y\":1.1,\"yanchor\":\"top\"}]},                        {\"responsive\": true}                    ).then(function(){\n",
              "                            \n",
              "var gd = document.getElementById('3a5d2e88-ac0e-4c33-8154-a2eb6a238202');\n",
              "var x = new MutationObserver(function (mutations, observer) {{\n",
              "        var display = window.getComputedStyle(gd).display;\n",
              "        if (!display || display === 'none') {{\n",
              "            console.log([gd, 'removed!']);\n",
              "            Plotly.purge(gd);\n",
              "            observer.disconnect();\n",
              "        }}\n",
              "}});\n",
              "\n",
              "// Listen for the removal of the full notebook cells\n",
              "var notebookContainer = gd.closest('#notebook-container');\n",
              "if (notebookContainer) {{\n",
              "    x.observe(notebookContainer, {childList: true});\n",
              "}}\n",
              "\n",
              "// Listen for the clearing of the current output cell\n",
              "var outputEl = gd.closest('.output');\n",
              "if (outputEl) {{\n",
              "    x.observe(outputEl, {childList: true});\n",
              "}}\n",
              "\n",
              "                        })                };                            </script>        </div>\n",
              "</body>\n",
              "</html>"
            ]
          },
          "metadata": {}
        },
        {
          "output_type": "stream",
          "name": "stdout",
          "text": [
            "Total explained variance: 10.42%\n"
          ]
        }
      ]
    },
    {
      "cell_type": "markdown",
      "source": [
        "### Dimensionality reduction"
      ],
      "metadata": {
        "id": "By_zNneB87mU"
      }
    },
    {
      "cell_type": "code",
      "source": [
        "from sklearn.pipeline import make_pipeline\n",
        "from sklearn.preprocessing import Normalizer, StandardScaler\n",
        "\n",
        "lsa = make_pipeline(TruncatedSVD(n_components=100))\n",
        "\n",
        "vectors_lsa = lsa.fit_transform(vectors)\n",
        "explained_variance = lsa[0].explained_variance_ratio_.sum()\n",
        "\n",
        "print(f\"Explained variance of the SVD step: {explained_variance * 100:.1f}%\\n\")\n",
        "\n",
        "labels_100d = dict()\n",
        "labels_db_100d = dbscan_clustering(vectors_lsa, eps=0.5, min_samples=5, metric='cosine')\n",
        "print()\n",
        "labels_hdb_100d = hdbscan_clustering(vectors_lsa)\n",
        "print()\n",
        "labels_hc_100d = hierarchical_clustering(vectors, n_clusters=2)\n",
        "labels_kmeans_100d = kmeans_clustering(vectors_lsa, n_clusters=2)\n",
        "\n",
        "labels_lsa = {'db': labels_db_100d, 'hdb': labels_hdb_100d, 'kmeans': labels_kmeans_100d, 'hc': labels_hc_100d}"
      ],
      "metadata": {
        "colab": {
          "base_uri": "https://localhost:8080/"
        },
        "id": "HS42Vv9KTlAx",
        "outputId": "afff9d67-f819-452b-9aec-5fdd8580b2a0"
      },
      "execution_count": 76,
      "outputs": [
        {
          "output_type": "stream",
          "name": "stdout",
          "text": [
            "Explained variance of the SVD step: 96.1%\n",
            "\n",
            "Estimated number of clusters: 5\n",
            "Estimated number of noise points: 96\n",
            "Silhouette score: 0.106\n",
            "\n",
            "Estimated number of clusters: 2\n",
            "Estimated number of noise points: 45\n",
            "Silhouette score: 0.045\n",
            "\n",
            "Silhouette score: 0.061\n"
          ]
        }
      ]
    },
    {
      "cell_type": "markdown",
      "source": [
        "### Clustering Visualization"
      ],
      "metadata": {
        "id": "Um_HMY31PSy8"
      }
    },
    {
      "cell_type": "code",
      "source": [
        "visualize_clustering(vectors, np.array(list(map(str, labels_lsa['hdb']))), 2, ['umap'])"
      ],
      "metadata": {
        "colab": {
          "base_uri": "https://localhost:8080/",
          "height": 561
        },
        "id": "1_V5W473v9we",
        "outputId": "d81f133c-1bdb-4baf-9d6d-2b489ff4bd23"
      },
      "execution_count": 79,
      "outputs": [
        {
          "output_type": "stream",
          "name": "stderr",
          "text": [
            "/usr/local/lib/python3.11/dist-packages/sklearn/utils/deprecation.py:151: FutureWarning:\n",
            "\n",
            "'force_all_finite' was renamed to 'ensure_all_finite' in 1.6 and will be removed in 1.8.\n",
            "\n"
          ]
        },
        {
          "output_type": "display_data",
          "data": {
            "text/plain": [
              "<Figure size 640x480 with 1 Axes>"
            ],
            "image/png": "[encoded data removed]"
          },
          "metadata": {}
        }
      ]
    },
    {
      "cell_type": "code",
      "source": [],
      "metadata": {
        "id": "qTA16sDROd0h"
      },
      "execution_count": null,
      "outputs": []
    }
  ]
}